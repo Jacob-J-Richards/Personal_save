{
 "cells": [
  {
   "cell_type": "code",
   "execution_count": 29,
   "metadata": {},
   "outputs": [],
   "source": [
    "import numpy as np \n",
    "import pandas as pd \n",
    "import os\n",
    "import matplotlib.pyplot as plt\n",
    "\n",
    "os.chdir(\"/Users/jacobrichards/Desktop/maybe finish project/Renewal_Prediction\")\n",
    "\n",
    "data = pd.read_csv(\"lease_renewal.csv\", na_values=[\"\", \"NA\"])\n"
   ]
  },
  {
   "cell_type": "code",
   "execution_count": 30,
   "metadata": {},
   "outputs": [
    {
     "data": {
      "text/html": [
       "<div>\n",
       "<style scoped>\n",
       "    .dataframe tbody tr th:only-of-type {\n",
       "        vertical-align: middle;\n",
       "    }\n",
       "\n",
       "    .dataframe tbody tr th {\n",
       "        vertical-align: top;\n",
       "    }\n",
       "\n",
       "    .dataframe thead th {\n",
       "        text-align: right;\n",
       "    }\n",
       "</style>\n",
       "<table border=\"1\" class=\"dataframe\">\n",
       "  <thead>\n",
       "    <tr style=\"text-align: right;\">\n",
       "      <th></th>\n",
       "      <th>lease_id</th>\n",
       "      <th>no_rent_change</th>\n",
       "      <th>rent_change_10</th>\n",
       "      <th>rent_change_20</th>\n",
       "      <th>lease_length_2</th>\n",
       "      <th>lease_length_3</th>\n",
       "      <th>lease_length_1</th>\n",
       "      <th>age_range_under_24</th>\n",
       "      <th>age_range_24_29</th>\n",
       "      <th>age_range_30_39</th>\n",
       "      <th>age_range_40_49</th>\n",
       "      <th>age_range_50_59</th>\n",
       "      <th>age_range_60</th>\n",
       "      <th>NoFinesViolations</th>\n",
       "      <th>PositiveSurvey</th>\n",
       "      <th>LatePayments</th>\n",
       "      <th>HOA_mandatory</th>\n",
       "      <th>Renewed</th>\n",
       "    </tr>\n",
       "  </thead>\n",
       "  <tbody>\n",
       "    <tr>\n",
       "      <th>0</th>\n",
       "      <td>HPA0001</td>\n",
       "      <td>0</td>\n",
       "      <td>0</td>\n",
       "      <td>0</td>\n",
       "      <td>0</td>\n",
       "      <td>0</td>\n",
       "      <td>0</td>\n",
       "      <td>0</td>\n",
       "      <td>0</td>\n",
       "      <td>0</td>\n",
       "      <td>0</td>\n",
       "      <td>0</td>\n",
       "      <td>0</td>\n",
       "      <td>0</td>\n",
       "      <td>1</td>\n",
       "      <td>1</td>\n",
       "      <td>0</td>\n",
       "      <td>1</td>\n",
       "    </tr>\n",
       "    <tr>\n",
       "      <th>1</th>\n",
       "      <td>HPA0002</td>\n",
       "      <td>0</td>\n",
       "      <td>0</td>\n",
       "      <td>0</td>\n",
       "      <td>0</td>\n",
       "      <td>0</td>\n",
       "      <td>0</td>\n",
       "      <td>0</td>\n",
       "      <td>0</td>\n",
       "      <td>0</td>\n",
       "      <td>0</td>\n",
       "      <td>0</td>\n",
       "      <td>0</td>\n",
       "      <td>0</td>\n",
       "      <td>0</td>\n",
       "      <td>0</td>\n",
       "      <td>0</td>\n",
       "      <td>0</td>\n",
       "    </tr>\n",
       "    <tr>\n",
       "      <th>2</th>\n",
       "      <td>HPA0003</td>\n",
       "      <td>0</td>\n",
       "      <td>0</td>\n",
       "      <td>0</td>\n",
       "      <td>0</td>\n",
       "      <td>0</td>\n",
       "      <td>0</td>\n",
       "      <td>0</td>\n",
       "      <td>0</td>\n",
       "      <td>0</td>\n",
       "      <td>0</td>\n",
       "      <td>0</td>\n",
       "      <td>0</td>\n",
       "      <td>0</td>\n",
       "      <td>1</td>\n",
       "      <td>0</td>\n",
       "      <td>0</td>\n",
       "      <td>0</td>\n",
       "    </tr>\n",
       "    <tr>\n",
       "      <th>3</th>\n",
       "      <td>HPA0004</td>\n",
       "      <td>0</td>\n",
       "      <td>0</td>\n",
       "      <td>0</td>\n",
       "      <td>0</td>\n",
       "      <td>0</td>\n",
       "      <td>0</td>\n",
       "      <td>0</td>\n",
       "      <td>0</td>\n",
       "      <td>0</td>\n",
       "      <td>0</td>\n",
       "      <td>0</td>\n",
       "      <td>0</td>\n",
       "      <td>0</td>\n",
       "      <td>1</td>\n",
       "      <td>1</td>\n",
       "      <td>0</td>\n",
       "      <td>0</td>\n",
       "    </tr>\n",
       "    <tr>\n",
       "      <th>4</th>\n",
       "      <td>HPA0005</td>\n",
       "      <td>0</td>\n",
       "      <td>0</td>\n",
       "      <td>0</td>\n",
       "      <td>0</td>\n",
       "      <td>0</td>\n",
       "      <td>0</td>\n",
       "      <td>0</td>\n",
       "      <td>0</td>\n",
       "      <td>0</td>\n",
       "      <td>0</td>\n",
       "      <td>0</td>\n",
       "      <td>0</td>\n",
       "      <td>0</td>\n",
       "      <td>0</td>\n",
       "      <td>0</td>\n",
       "      <td>0</td>\n",
       "      <td>0</td>\n",
       "    </tr>\n",
       "  </tbody>\n",
       "</table>\n",
       "</div>"
      ],
      "text/plain": [
       "  lease_id  no_rent_change  rent_change_10  rent_change_20  lease_length_2  \\\n",
       "0  HPA0001               0               0               0               0   \n",
       "1  HPA0002               0               0               0               0   \n",
       "2  HPA0003               0               0               0               0   \n",
       "3  HPA0004               0               0               0               0   \n",
       "4  HPA0005               0               0               0               0   \n",
       "\n",
       "   lease_length_3  lease_length_1  age_range_under_24  age_range_24_29  \\\n",
       "0               0               0                   0                0   \n",
       "1               0               0                   0                0   \n",
       "2               0               0                   0                0   \n",
       "3               0               0                   0                0   \n",
       "4               0               0                   0                0   \n",
       "\n",
       "   age_range_30_39  age_range_40_49  age_range_50_59  age_range_60  \\\n",
       "0                0                0                0             0   \n",
       "1                0                0                0             0   \n",
       "2                0                0                0             0   \n",
       "3                0                0                0             0   \n",
       "4                0                0                0             0   \n",
       "\n",
       "   NoFinesViolations  PositiveSurvey  LatePayments  HOA_mandatory  Renewed  \n",
       "0                  0               1             1              0        1  \n",
       "1                  0               0             0              0        0  \n",
       "2                  0               1             0              0        0  \n",
       "3                  0               1             1              0        0  \n",
       "4                  0               0             0              0        0  "
      ]
     },
     "metadata": {},
     "output_type": "display_data"
    }
   ],
   "source": [
    "display(data.head())"
   ]
  },
  {
   "cell_type": "code",
   "execution_count": null,
   "metadata": {},
   "outputs": [],
   "source": []
  },
  {
   "cell_type": "markdown",
   "metadata": {},
   "source": [
    "Important Note: Please do not build any kind of regression or classification model to\n",
    "address the questions below\n",
    "\n",
    "Question 1: What are the key drivers that explain whether a resident will renew the\n",
    "lease or not? In other words, what are the renewal promoters and detractors?"
   ]
  },
  {
   "cell_type": "markdown",
   "metadata": {},
   "source": [
    "Ok, what if we did a proportion test for difference in no rent change to 20% rent change on the proportion of lease renewals \n",
    "and the same thing for the lease length levels 1 to 3. "
   ]
  },
  {
   "cell_type": "code",
   "execution_count": 31,
   "metadata": {},
   "outputs": [
    {
     "data": {
      "text/plain": [
       "np.int64(5270)"
      ]
     },
     "metadata": {},
     "output_type": "display_data"
    },
    {
     "data": {
      "text/plain": [
       "np.int64(17681)"
      ]
     },
     "metadata": {},
     "output_type": "display_data"
    },
    {
     "data": {
      "text/plain": [
       "np.int64(7102)"
      ]
     },
     "metadata": {},
     "output_type": "display_data"
    },
    {
     "data": {
      "text/plain": [
       "np.int64(46462)"
      ]
     },
     "metadata": {},
     "output_type": "display_data"
    }
   ],
   "source": [
    "# proportion of no rate change that renewed \n",
    "# proportion of 20% rent increase renewed\n",
    "\n",
    "#where there was no rent change how many renewed \n",
    "sum_renewed_0 = data.loc[data['no_rent_change'] == 1, 'Renewed'].sum()\n",
    "display(sum_renewed_0)\n",
    "#how many had no rent change \n",
    "sum_no_rent_change = data['no_rent_change'].sum()\n",
    "display(sum_no_rent_change)\n",
    "\n",
    "\n",
    "P_renewed_no_rent_change_div_no_rent_change = sum_renewed/sum_no_rent_change\n",
    "\n",
    "#display(P_renewed_no_rent_change_div_no_rent_change)\n",
    "\n",
    "\n",
    "\n",
    "\n",
    "\n",
    "\n",
    "\n",
    "sum_renewed_20 = data.loc[data['rent_change_20'] == 1, 'Renewed'].sum()\n",
    "display(sum_renewed_20)\n",
    "\n",
    "sum_rent_change_20 = data['rent_change_20'].sum()\n",
    "display(sum_rent_change_20)\n",
    "\n",
    "P_renewed_no_rent_change_div_no_rent_change = sum_renewed/sum_no_rent_change\n",
    "\n",
    "#display(P_renewed_no_rent_change_div_no_rent_change)\n"
   ]
  },
  {
   "cell_type": "markdown",
   "metadata": {},
   "source": [
    "Proportion: no rent change renewed / no rent change = 0.29\n",
    "\n",
    "Proportion: rent change 20% renewed / rent change 20 = 0.15\n",
    "\n"
   ]
  },
  {
   "cell_type": "code",
   "execution_count": 32,
   "metadata": {},
   "outputs": [
    {
     "name": "stdout",
     "output_type": "stream",
     "text": [
      "Z-test Statistic: 41.647817284201636\n",
      "P-value: 0.0\n"
     ]
    }
   ],
   "source": [
    "import statsmodels.api as sm\n",
    "\n",
    "# Data: Successes and total observations for two groups\n",
    "successes = [5270,7102 ]  # Number of renewals (successes) for two groups\n",
    "n_obs = [17681, 46462]     # Total number of trials (observations) for two groups\n",
    "\n",
    "# Perform the two-proportion z-test\n",
    "test_stat, p_value = sm.stats.proportions_ztest(count=successes, nobs=n_obs, alternative='two-sided')\n",
    "\n",
    "print(f\"Z-test Statistic: {test_stat}\")\n",
    "print(f\"P-value: {p_value}\")"
   ]
  },
  {
   "cell_type": "markdown",
   "metadata": {},
   "source": [
    "Question 2: you prove that?\n",
    "Are these promoters and detractors statistically significant or not? How do"
   ]
  },
  {
   "cell_type": "markdown",
   "metadata": {},
   "source": [
    "Question 3: When you present this analysis to the leasing business, what are the key\n",
    "conclusion and action items you’ll propose to the team?"
   ]
  },
  {
   "cell_type": "markdown",
   "metadata": {},
   "source": [
    "Question 4: What additional data would you ask the business for in order to help you\n",
    "further refine analysis for questions 1 and 2?"
   ]
  }
 ],
 "metadata": {
  "kernelspec": {
   "display_name": "base",
   "language": "python",
   "name": "python3"
  },
  "language_info": {
   "codemirror_mode": {
    "name": "ipython",
    "version": 3
   },
   "file_extension": ".py",
   "mimetype": "text/x-python",
   "name": "python",
   "nbconvert_exporter": "python",
   "pygments_lexer": "ipython3",
   "version": "3.12.2"
  }
 },
 "nbformat": 4,
 "nbformat_minor": 2
}
